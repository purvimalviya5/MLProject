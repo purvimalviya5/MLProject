{
  "nbformat": 4,
  "nbformat_minor": 0,
  "metadata": {
    "colab": {
      "provenance": [],
      "authorship_tag": "ABX9TyNT40lDN+TU4gT5yFXiFRt9",
      "include_colab_link": true
    },
    "kernelspec": {
      "name": "python3",
      "display_name": "Python 3"
    },
    "language_info": {
      "name": "python"
    }
  },
  "cells": [
    {
      "cell_type": "markdown",
      "metadata": {
        "id": "view-in-github",
        "colab_type": "text"
      },
      "source": [
        "<a href=\"https://colab.research.google.com/github/purvimalviya5/MLProject/blob/main/PurviMalviya_MLProjectReport.ipynb\" target=\"_parent\"><img src=\"https://colab.research.google.com/assets/colab-badge.svg\" alt=\"Open In Colab\"/></a>"
      ]
    },
    {
      "cell_type": "markdown",
      "source": [
        "**Employee Salary Prediction Model**"
      ],
      "metadata": {
        "id": "4BLVHyuwqVRZ"
      }
    },
    {
      "cell_type": "markdown",
      "source": [
        " Importing necessary libraries"
      ],
      "metadata": {
        "id": "b4bmMmapqBL0"
      }
    },
    {
      "cell_type": "code",
      "source": [
        "# Data Manipulation and Analysis\n",
        "import pandas as pd\n",
        "import numpy as np\n",
        "\n",
        "# Data Visualization\n",
        "import matplotlib.pyplot as plt\n",
        "import seaborn as sns\n",
        "\n",
        "# Preprocessing\n",
        "from sklearn.model_selection import train_test_split\n",
        "from sklearn.preprocessing import StandardScaler\n",
        "\n",
        "# Linear Regression Model\n",
        "from sklearn.linear_model import LinearRegression\n",
        "\n",
        "# Model Evaluation\n",
        "from sklearn.metrics import mean_squared_error, r2_score  # For evaluating model performance"
      ],
      "metadata": {
        "id": "9GjWyH7ZqBlW"
      },
      "execution_count": null,
      "outputs": []
    },
    {
      "cell_type": "markdown",
      "source": [
        "Importing the dataset"
      ],
      "metadata": {
        "id": "LABKKNkeqB59"
      }
    },
    {
      "cell_type": "code",
      "source": [
        "from google.colab import files\n",
        "uploaded = files.upload()"
      ],
      "metadata": {
        "colab": {
          "base_uri": "https://localhost:8080/",
          "height": 73
        },
        "id": "hBopzlihshr6",
        "outputId": "6c7e1034-9162-446d-b467-c9da058f714b"
      },
      "execution_count": null,
      "outputs": [
        {
          "output_type": "display_data",
          "data": {
            "text/plain": [
              "<IPython.core.display.HTML object>"
            ],
            "text/html": [
              "\n",
              "     <input type=\"file\" id=\"files-d77acb90-eb74-40ed-9ed1-01c949a30d9f\" name=\"files[]\" multiple disabled\n",
              "        style=\"border:none\" />\n",
              "     <output id=\"result-d77acb90-eb74-40ed-9ed1-01c949a30d9f\">\n",
              "      Upload widget is only available when the cell has been executed in the\n",
              "      current browser session. Please rerun this cell to enable.\n",
              "      </output>\n",
              "      <script>// Copyright 2017 Google LLC\n",
              "//\n",
              "// Licensed under the Apache License, Version 2.0 (the \"License\");\n",
              "// you may not use this file except in compliance with the License.\n",
              "// You may obtain a copy of the License at\n",
              "//\n",
              "//      http://www.apache.org/licenses/LICENSE-2.0\n",
              "//\n",
              "// Unless required by applicable law or agreed to in writing, software\n",
              "// distributed under the License is distributed on an \"AS IS\" BASIS,\n",
              "// WITHOUT WARRANTIES OR CONDITIONS OF ANY KIND, either express or implied.\n",
              "// See the License for the specific language governing permissions and\n",
              "// limitations under the License.\n",
              "\n",
              "/**\n",
              " * @fileoverview Helpers for google.colab Python module.\n",
              " */\n",
              "(function(scope) {\n",
              "function span(text, styleAttributes = {}) {\n",
              "  const element = document.createElement('span');\n",
              "  element.textContent = text;\n",
              "  for (const key of Object.keys(styleAttributes)) {\n",
              "    element.style[key] = styleAttributes[key];\n",
              "  }\n",
              "  return element;\n",
              "}\n",
              "\n",
              "// Max number of bytes which will be uploaded at a time.\n",
              "const MAX_PAYLOAD_SIZE = 100 * 1024;\n",
              "\n",
              "function _uploadFiles(inputId, outputId) {\n",
              "  const steps = uploadFilesStep(inputId, outputId);\n",
              "  const outputElement = document.getElementById(outputId);\n",
              "  // Cache steps on the outputElement to make it available for the next call\n",
              "  // to uploadFilesContinue from Python.\n",
              "  outputElement.steps = steps;\n",
              "\n",
              "  return _uploadFilesContinue(outputId);\n",
              "}\n",
              "\n",
              "// This is roughly an async generator (not supported in the browser yet),\n",
              "// where there are multiple asynchronous steps and the Python side is going\n",
              "// to poll for completion of each step.\n",
              "// This uses a Promise to block the python side on completion of each step,\n",
              "// then passes the result of the previous step as the input to the next step.\n",
              "function _uploadFilesContinue(outputId) {\n",
              "  const outputElement = document.getElementById(outputId);\n",
              "  const steps = outputElement.steps;\n",
              "\n",
              "  const next = steps.next(outputElement.lastPromiseValue);\n",
              "  return Promise.resolve(next.value.promise).then((value) => {\n",
              "    // Cache the last promise value to make it available to the next\n",
              "    // step of the generator.\n",
              "    outputElement.lastPromiseValue = value;\n",
              "    return next.value.response;\n",
              "  });\n",
              "}\n",
              "\n",
              "/**\n",
              " * Generator function which is called between each async step of the upload\n",
              " * process.\n",
              " * @param {string} inputId Element ID of the input file picker element.\n",
              " * @param {string} outputId Element ID of the output display.\n",
              " * @return {!Iterable<!Object>} Iterable of next steps.\n",
              " */\n",
              "function* uploadFilesStep(inputId, outputId) {\n",
              "  const inputElement = document.getElementById(inputId);\n",
              "  inputElement.disabled = false;\n",
              "\n",
              "  const outputElement = document.getElementById(outputId);\n",
              "  outputElement.innerHTML = '';\n",
              "\n",
              "  const pickedPromise = new Promise((resolve) => {\n",
              "    inputElement.addEventListener('change', (e) => {\n",
              "      resolve(e.target.files);\n",
              "    });\n",
              "  });\n",
              "\n",
              "  const cancel = document.createElement('button');\n",
              "  inputElement.parentElement.appendChild(cancel);\n",
              "  cancel.textContent = 'Cancel upload';\n",
              "  const cancelPromise = new Promise((resolve) => {\n",
              "    cancel.onclick = () => {\n",
              "      resolve(null);\n",
              "    };\n",
              "  });\n",
              "\n",
              "  // Wait for the user to pick the files.\n",
              "  const files = yield {\n",
              "    promise: Promise.race([pickedPromise, cancelPromise]),\n",
              "    response: {\n",
              "      action: 'starting',\n",
              "    }\n",
              "  };\n",
              "\n",
              "  cancel.remove();\n",
              "\n",
              "  // Disable the input element since further picks are not allowed.\n",
              "  inputElement.disabled = true;\n",
              "\n",
              "  if (!files) {\n",
              "    return {\n",
              "      response: {\n",
              "        action: 'complete',\n",
              "      }\n",
              "    };\n",
              "  }\n",
              "\n",
              "  for (const file of files) {\n",
              "    const li = document.createElement('li');\n",
              "    li.append(span(file.name, {fontWeight: 'bold'}));\n",
              "    li.append(span(\n",
              "        `(${file.type || 'n/a'}) - ${file.size} bytes, ` +\n",
              "        `last modified: ${\n",
              "            file.lastModifiedDate ? file.lastModifiedDate.toLocaleDateString() :\n",
              "                                    'n/a'} - `));\n",
              "    const percent = span('0% done');\n",
              "    li.appendChild(percent);\n",
              "\n",
              "    outputElement.appendChild(li);\n",
              "\n",
              "    const fileDataPromise = new Promise((resolve) => {\n",
              "      const reader = new FileReader();\n",
              "      reader.onload = (e) => {\n",
              "        resolve(e.target.result);\n",
              "      };\n",
              "      reader.readAsArrayBuffer(file);\n",
              "    });\n",
              "    // Wait for the data to be ready.\n",
              "    let fileData = yield {\n",
              "      promise: fileDataPromise,\n",
              "      response: {\n",
              "        action: 'continue',\n",
              "      }\n",
              "    };\n",
              "\n",
              "    // Use a chunked sending to avoid message size limits. See b/62115660.\n",
              "    let position = 0;\n",
              "    do {\n",
              "      const length = Math.min(fileData.byteLength - position, MAX_PAYLOAD_SIZE);\n",
              "      const chunk = new Uint8Array(fileData, position, length);\n",
              "      position += length;\n",
              "\n",
              "      const base64 = btoa(String.fromCharCode.apply(null, chunk));\n",
              "      yield {\n",
              "        response: {\n",
              "          action: 'append',\n",
              "          file: file.name,\n",
              "          data: base64,\n",
              "        },\n",
              "      };\n",
              "\n",
              "      let percentDone = fileData.byteLength === 0 ?\n",
              "          100 :\n",
              "          Math.round((position / fileData.byteLength) * 100);\n",
              "      percent.textContent = `${percentDone}% done`;\n",
              "\n",
              "    } while (position < fileData.byteLength);\n",
              "  }\n",
              "\n",
              "  // All done.\n",
              "  yield {\n",
              "    response: {\n",
              "      action: 'complete',\n",
              "    }\n",
              "  };\n",
              "}\n",
              "\n",
              "scope.google = scope.google || {};\n",
              "scope.google.colab = scope.google.colab || {};\n",
              "scope.google.colab._files = {\n",
              "  _uploadFiles,\n",
              "  _uploadFilesContinue,\n",
              "};\n",
              "})(self);\n",
              "</script> "
            ]
          },
          "metadata": {}
        },
        {
          "output_type": "stream",
          "name": "stdout",
          "text": [
            "Saving WA_Fn-UseC_-HR-Employee-Attrition.csv to WA_Fn-UseC_-HR-Employee-Attrition.csv\n"
          ]
        }
      ]
    },
    {
      "cell_type": "markdown",
      "source": [
        "Loading the Dataset"
      ],
      "metadata": {
        "id": "fsjyjKyIKgC2"
      }
    },
    {
      "cell_type": "markdown",
      "source": [],
      "metadata": {
        "id": "heFkK3Ogc0LT"
      }
    },
    {
      "cell_type": "code",
      "source": [
        "df = pd.read_csv(\"WA_Fn-UseC_-HR-Employee-Attrition.csv\")"
      ],
      "metadata": {
        "id": "hju1R2kBqCNu"
      },
      "execution_count": null,
      "outputs": []
    },
    {
      "cell_type": "code",
      "source": [
        "print(df.head())"
      ],
      "metadata": {
        "colab": {
          "base_uri": "https://localhost:8080/"
        },
        "id": "9BZvy7jirPwU",
        "outputId": "532c094b-9658-4597-c5ce-71c3452378a1"
      },
      "execution_count": null,
      "outputs": [
        {
          "output_type": "stream",
          "name": "stdout",
          "text": [
            "   Age Attrition     BusinessTravel  DailyRate              Department  \\\n",
            "0   41       Yes      Travel_Rarely       1102                   Sales   \n",
            "1   49        No  Travel_Frequently        279  Research & Development   \n",
            "2   37       Yes      Travel_Rarely       1373  Research & Development   \n",
            "3   33        No  Travel_Frequently       1392  Research & Development   \n",
            "4   27        No      Travel_Rarely        591  Research & Development   \n",
            "\n",
            "   DistanceFromHome  Education EducationField  EmployeeCount  EmployeeNumber  \\\n",
            "0                 1          2  Life Sciences              1               1   \n",
            "1                 8          1  Life Sciences              1               2   \n",
            "2                 2          2          Other              1               4   \n",
            "3                 3          4  Life Sciences              1               5   \n",
            "4                 2          1        Medical              1               7   \n",
            "\n",
            "   ...  RelationshipSatisfaction StandardHours  StockOptionLevel  \\\n",
            "0  ...                         1            80                 0   \n",
            "1  ...                         4            80                 1   \n",
            "2  ...                         2            80                 0   \n",
            "3  ...                         3            80                 0   \n",
            "4  ...                         4            80                 1   \n",
            "\n",
            "   TotalWorkingYears  TrainingTimesLastYear WorkLifeBalance  YearsAtCompany  \\\n",
            "0                  8                      0               1               6   \n",
            "1                 10                      3               3              10   \n",
            "2                  7                      3               3               0   \n",
            "3                  8                      3               3               8   \n",
            "4                  6                      3               3               2   \n",
            "\n",
            "  YearsInCurrentRole  YearsSinceLastPromotion  YearsWithCurrManager  \n",
            "0                  4                        0                     5  \n",
            "1                  7                        1                     7  \n",
            "2                  0                        0                     0  \n",
            "3                  7                        3                     0  \n",
            "4                  2                        2                     2  \n",
            "\n",
            "[5 rows x 35 columns]\n"
          ]
        }
      ]
    },
    {
      "cell_type": "code",
      "source": [
        "print(df.info())"
      ],
      "metadata": {
        "colab": {
          "base_uri": "https://localhost:8080/"
        },
        "id": "QCoj9wKxrQSY",
        "outputId": "f389e699-9db7-4ef8-e9cc-0b91a404d9cf"
      },
      "execution_count": null,
      "outputs": [
        {
          "output_type": "stream",
          "name": "stdout",
          "text": [
            "<class 'pandas.core.frame.DataFrame'>\n",
            "RangeIndex: 1470 entries, 0 to 1469\n",
            "Data columns (total 35 columns):\n",
            " #   Column                    Non-Null Count  Dtype \n",
            "---  ------                    --------------  ----- \n",
            " 0   Age                       1470 non-null   int64 \n",
            " 1   Attrition                 1470 non-null   object\n",
            " 2   BusinessTravel            1470 non-null   object\n",
            " 3   DailyRate                 1470 non-null   int64 \n",
            " 4   Department                1470 non-null   object\n",
            " 5   DistanceFromHome          1470 non-null   int64 \n",
            " 6   Education                 1470 non-null   int64 \n",
            " 7   EducationField            1470 non-null   object\n",
            " 8   EmployeeCount             1470 non-null   int64 \n",
            " 9   EmployeeNumber            1470 non-null   int64 \n",
            " 10  EnvironmentSatisfaction   1470 non-null   int64 \n",
            " 11  Gender                    1470 non-null   object\n",
            " 12  HourlyRate                1470 non-null   int64 \n",
            " 13  JobInvolvement            1470 non-null   int64 \n",
            " 14  JobLevel                  1470 non-null   int64 \n",
            " 15  JobRole                   1470 non-null   object\n",
            " 16  JobSatisfaction           1470 non-null   int64 \n",
            " 17  MaritalStatus             1470 non-null   object\n",
            " 18  MonthlyIncome             1470 non-null   int64 \n",
            " 19  MonthlyRate               1470 non-null   int64 \n",
            " 20  NumCompaniesWorked        1470 non-null   int64 \n",
            " 21  Over18                    1470 non-null   object\n",
            " 22  OverTime                  1470 non-null   object\n",
            " 23  PercentSalaryHike         1470 non-null   int64 \n",
            " 24  PerformanceRating         1470 non-null   int64 \n",
            " 25  RelationshipSatisfaction  1470 non-null   int64 \n",
            " 26  StandardHours             1470 non-null   int64 \n",
            " 27  StockOptionLevel          1470 non-null   int64 \n",
            " 28  TotalWorkingYears         1470 non-null   int64 \n",
            " 29  TrainingTimesLastYear     1470 non-null   int64 \n",
            " 30  WorkLifeBalance           1470 non-null   int64 \n",
            " 31  YearsAtCompany            1470 non-null   int64 \n",
            " 32  YearsInCurrentRole        1470 non-null   int64 \n",
            " 33  YearsSinceLastPromotion   1470 non-null   int64 \n",
            " 34  YearsWithCurrManager      1470 non-null   int64 \n",
            "dtypes: int64(26), object(9)\n",
            "memory usage: 402.1+ KB\n",
            "None\n"
          ]
        }
      ]
    },
    {
      "cell_type": "code",
      "source": [
        "df.shape"
      ],
      "metadata": {
        "colab": {
          "base_uri": "https://localhost:8080/"
        },
        "id": "CtL5CaN9rQoj",
        "outputId": "ed813017-017d-476d-bf37-3050125f238c"
      },
      "execution_count": null,
      "outputs": [
        {
          "output_type": "execute_result",
          "data": {
            "text/plain": [
              "(1470, 35)"
            ]
          },
          "metadata": {},
          "execution_count": 7
        }
      ]
    },
    {
      "cell_type": "code",
      "source": [
        "df.columns"
      ],
      "metadata": {
        "colab": {
          "base_uri": "https://localhost:8080/"
        },
        "id": "CRc-PuvqrQzB",
        "outputId": "eeb8ecb3-cc65-4285-970a-187b345be436"
      },
      "execution_count": null,
      "outputs": [
        {
          "output_type": "execute_result",
          "data": {
            "text/plain": [
              "Index(['Age', 'Attrition', 'BusinessTravel', 'DailyRate', 'Department',\n",
              "       'DistanceFromHome', 'Education', 'EducationField', 'EmployeeCount',\n",
              "       'EmployeeNumber', 'EnvironmentSatisfaction', 'Gender', 'HourlyRate',\n",
              "       'JobInvolvement', 'JobLevel', 'JobRole', 'JobSatisfaction',\n",
              "       'MaritalStatus', 'MonthlyIncome', 'MonthlyRate', 'NumCompaniesWorked',\n",
              "       'Over18', 'OverTime', 'PercentSalaryHike', 'PerformanceRating',\n",
              "       'RelationshipSatisfaction', 'StandardHours', 'StockOptionLevel',\n",
              "       'TotalWorkingYears', 'TrainingTimesLastYear', 'WorkLifeBalance',\n",
              "       'YearsAtCompany', 'YearsInCurrentRole', 'YearsSinceLastPromotion',\n",
              "       'YearsWithCurrManager'],\n",
              "      dtype='object')"
            ]
          },
          "metadata": {},
          "execution_count": 8
        }
      ]
    },
    {
      "cell_type": "markdown",
      "source": [
        "Dropping Unnecessary Columns"
      ],
      "metadata": {
        "id": "L6k5e_khKlnB"
      }
    },
    {
      "cell_type": "code",
      "source": [
        "df = df.drop(columns=['EmployeeCount', 'StandardHours', 'Over18', 'EmployeeNumber'])"
      ],
      "metadata": {
        "id": "aTKzoENhs8Rq"
      },
      "execution_count": null,
      "outputs": []
    },
    {
      "cell_type": "markdown",
      "source": [
        "One - Hot Encoding"
      ],
      "metadata": {
        "id": "4U0dvUuLKxxr"
      }
    },
    {
      "cell_type": "code",
      "source": [
        "df = pd.get_dummies(df, drop_first=True)"
      ],
      "metadata": {
        "id": "ypyn0ahps8Ua"
      },
      "execution_count": null,
      "outputs": []
    },
    {
      "cell_type": "code",
      "source": [
        "print(df)"
      ],
      "metadata": {
        "colab": {
          "base_uri": "https://localhost:8080/"
        },
        "id": "zoP2t8J5s8W0",
        "outputId": "e5f53621-fdbe-469e-d802-f126199a230f"
      },
      "execution_count": null,
      "outputs": [
        {
          "output_type": "stream",
          "name": "stdout",
          "text": [
            "      Age  DailyRate  DistanceFromHome  Education  EnvironmentSatisfaction  \\\n",
            "0      41       1102                 1          2                        2   \n",
            "1      49        279                 8          1                        3   \n",
            "2      37       1373                 2          2                        4   \n",
            "3      33       1392                 3          4                        4   \n",
            "4      27        591                 2          1                        1   \n",
            "...   ...        ...               ...        ...                      ...   \n",
            "1465   36        884                23          2                        3   \n",
            "1466   39        613                 6          1                        4   \n",
            "1467   27        155                 4          3                        2   \n",
            "1468   49       1023                 2          3                        4   \n",
            "1469   34        628                 8          3                        2   \n",
            "\n",
            "      HourlyRate  JobInvolvement  JobLevel  JobSatisfaction  MonthlyIncome  \\\n",
            "0             94               3         2                4           5993   \n",
            "1             61               2         2                2           5130   \n",
            "2             92               2         1                3           2090   \n",
            "3             56               3         1                3           2909   \n",
            "4             40               3         1                2           3468   \n",
            "...          ...             ...       ...              ...            ...   \n",
            "1465          41               4         2                4           2571   \n",
            "1466          42               2         3                1           9991   \n",
            "1467          87               4         2                2           6142   \n",
            "1468          63               2         2                2           5390   \n",
            "1469          82               4         2                3           4404   \n",
            "\n",
            "      ...  JobRole_Laboratory Technician  JobRole_Manager  \\\n",
            "0     ...                          False            False   \n",
            "1     ...                          False            False   \n",
            "2     ...                           True            False   \n",
            "3     ...                          False            False   \n",
            "4     ...                           True            False   \n",
            "...   ...                            ...              ...   \n",
            "1465  ...                           True            False   \n",
            "1466  ...                          False            False   \n",
            "1467  ...                          False            False   \n",
            "1468  ...                          False            False   \n",
            "1469  ...                           True            False   \n",
            "\n",
            "      JobRole_Manufacturing Director  JobRole_Research Director  \\\n",
            "0                              False                      False   \n",
            "1                              False                      False   \n",
            "2                              False                      False   \n",
            "3                              False                      False   \n",
            "4                              False                      False   \n",
            "...                              ...                        ...   \n",
            "1465                           False                      False   \n",
            "1466                           False                      False   \n",
            "1467                            True                      False   \n",
            "1468                           False                      False   \n",
            "1469                           False                      False   \n",
            "\n",
            "      JobRole_Research Scientist  JobRole_Sales Executive  \\\n",
            "0                          False                     True   \n",
            "1                           True                    False   \n",
            "2                          False                    False   \n",
            "3                           True                    False   \n",
            "4                          False                    False   \n",
            "...                          ...                      ...   \n",
            "1465                       False                    False   \n",
            "1466                       False                    False   \n",
            "1467                       False                    False   \n",
            "1468                       False                     True   \n",
            "1469                       False                    False   \n",
            "\n",
            "      JobRole_Sales Representative  MaritalStatus_Married  \\\n",
            "0                            False                  False   \n",
            "1                            False                   True   \n",
            "2                            False                  False   \n",
            "3                            False                   True   \n",
            "4                            False                   True   \n",
            "...                            ...                    ...   \n",
            "1465                         False                   True   \n",
            "1466                         False                   True   \n",
            "1467                         False                   True   \n",
            "1468                         False                   True   \n",
            "1469                         False                   True   \n",
            "\n",
            "      MaritalStatus_Single  OverTime_Yes  \n",
            "0                     True          True  \n",
            "1                    False         False  \n",
            "2                     True          True  \n",
            "3                    False          True  \n",
            "4                    False         False  \n",
            "...                    ...           ...  \n",
            "1465                 False         False  \n",
            "1466                 False         False  \n",
            "1467                 False          True  \n",
            "1468                 False         False  \n",
            "1469                 False         False  \n",
            "\n",
            "[1470 rows x 45 columns]\n"
          ]
        }
      ]
    },
    {
      "cell_type": "markdown",
      "source": [
        "Setting Values for X_train & X_test"
      ],
      "metadata": {
        "id": "w3LnX9gGK8Pw"
      }
    },
    {
      "cell_type": "code",
      "source": [
        "X = df.drop(columns=['MonthlyIncome'])  # Assuming 'MonthlyIncome' is the salary column\n",
        "y = df['MonthlyIncome']"
      ],
      "metadata": {
        "id": "GcuEUKXKs8Y4"
      },
      "execution_count": null,
      "outputs": []
    },
    {
      "cell_type": "markdown",
      "source": [
        "Splitting the Dataset (Test Dataset = 20%)"
      ],
      "metadata": {
        "id": "GwB9ikvvLFIK"
      }
    },
    {
      "cell_type": "code",
      "source": [
        "X_train, X_test, y_train, y_test = train_test_split(X, y, test_size=0.2, random_state=42)"
      ],
      "metadata": {
        "id": "jWKPK5GWs8by"
      },
      "execution_count": null,
      "outputs": []
    },
    {
      "cell_type": "markdown",
      "source": [
        "Training the Model"
      ],
      "metadata": {
        "id": "et6NdXy3LQVp"
      }
    },
    {
      "cell_type": "code",
      "source": [
        "my_model = LinearRegression()\n",
        "my_model.fit(X_train, y_train)"
      ],
      "metadata": {
        "colab": {
          "base_uri": "https://localhost:8080/",
          "height": 80
        },
        "id": "d4h80VsDs8d6",
        "outputId": "81f92632-92b7-41fb-872d-599c1a1f3fb1"
      },
      "execution_count": null,
      "outputs": [
        {
          "output_type": "execute_result",
          "data": {
            "text/plain": [
              "LinearRegression()"
            ],
            "text/html": [
              "<style>#sk-container-id-1 {\n",
              "  /* Definition of color scheme common for light and dark mode */\n",
              "  --sklearn-color-text: black;\n",
              "  --sklearn-color-line: gray;\n",
              "  /* Definition of color scheme for unfitted estimators */\n",
              "  --sklearn-color-unfitted-level-0: #fff5e6;\n",
              "  --sklearn-color-unfitted-level-1: #f6e4d2;\n",
              "  --sklearn-color-unfitted-level-2: #ffe0b3;\n",
              "  --sklearn-color-unfitted-level-3: chocolate;\n",
              "  /* Definition of color scheme for fitted estimators */\n",
              "  --sklearn-color-fitted-level-0: #f0f8ff;\n",
              "  --sklearn-color-fitted-level-1: #d4ebff;\n",
              "  --sklearn-color-fitted-level-2: #b3dbfd;\n",
              "  --sklearn-color-fitted-level-3: cornflowerblue;\n",
              "\n",
              "  /* Specific color for light theme */\n",
              "  --sklearn-color-text-on-default-background: var(--sg-text-color, var(--theme-code-foreground, var(--jp-content-font-color1, black)));\n",
              "  --sklearn-color-background: var(--sg-background-color, var(--theme-background, var(--jp-layout-color0, white)));\n",
              "  --sklearn-color-border-box: var(--sg-text-color, var(--theme-code-foreground, var(--jp-content-font-color1, black)));\n",
              "  --sklearn-color-icon: #696969;\n",
              "\n",
              "  @media (prefers-color-scheme: dark) {\n",
              "    /* Redefinition of color scheme for dark theme */\n",
              "    --sklearn-color-text-on-default-background: var(--sg-text-color, var(--theme-code-foreground, var(--jp-content-font-color1, white)));\n",
              "    --sklearn-color-background: var(--sg-background-color, var(--theme-background, var(--jp-layout-color0, #111)));\n",
              "    --sklearn-color-border-box: var(--sg-text-color, var(--theme-code-foreground, var(--jp-content-font-color1, white)));\n",
              "    --sklearn-color-icon: #878787;\n",
              "  }\n",
              "}\n",
              "\n",
              "#sk-container-id-1 {\n",
              "  color: var(--sklearn-color-text);\n",
              "}\n",
              "\n",
              "#sk-container-id-1 pre {\n",
              "  padding: 0;\n",
              "}\n",
              "\n",
              "#sk-container-id-1 input.sk-hidden--visually {\n",
              "  border: 0;\n",
              "  clip: rect(1px 1px 1px 1px);\n",
              "  clip: rect(1px, 1px, 1px, 1px);\n",
              "  height: 1px;\n",
              "  margin: -1px;\n",
              "  overflow: hidden;\n",
              "  padding: 0;\n",
              "  position: absolute;\n",
              "  width: 1px;\n",
              "}\n",
              "\n",
              "#sk-container-id-1 div.sk-dashed-wrapped {\n",
              "  border: 1px dashed var(--sklearn-color-line);\n",
              "  margin: 0 0.4em 0.5em 0.4em;\n",
              "  box-sizing: border-box;\n",
              "  padding-bottom: 0.4em;\n",
              "  background-color: var(--sklearn-color-background);\n",
              "}\n",
              "\n",
              "#sk-container-id-1 div.sk-container {\n",
              "  /* jupyter's `normalize.less` sets `[hidden] { display: none; }`\n",
              "     but bootstrap.min.css set `[hidden] { display: none !important; }`\n",
              "     so we also need the `!important` here to be able to override the\n",
              "     default hidden behavior on the sphinx rendered scikit-learn.org.\n",
              "     See: https://github.com/scikit-learn/scikit-learn/issues/21755 */\n",
              "  display: inline-block !important;\n",
              "  position: relative;\n",
              "}\n",
              "\n",
              "#sk-container-id-1 div.sk-text-repr-fallback {\n",
              "  display: none;\n",
              "}\n",
              "\n",
              "div.sk-parallel-item,\n",
              "div.sk-serial,\n",
              "div.sk-item {\n",
              "  /* draw centered vertical line to link estimators */\n",
              "  background-image: linear-gradient(var(--sklearn-color-text-on-default-background), var(--sklearn-color-text-on-default-background));\n",
              "  background-size: 2px 100%;\n",
              "  background-repeat: no-repeat;\n",
              "  background-position: center center;\n",
              "}\n",
              "\n",
              "/* Parallel-specific style estimator block */\n",
              "\n",
              "#sk-container-id-1 div.sk-parallel-item::after {\n",
              "  content: \"\";\n",
              "  width: 100%;\n",
              "  border-bottom: 2px solid var(--sklearn-color-text-on-default-background);\n",
              "  flex-grow: 1;\n",
              "}\n",
              "\n",
              "#sk-container-id-1 div.sk-parallel {\n",
              "  display: flex;\n",
              "  align-items: stretch;\n",
              "  justify-content: center;\n",
              "  background-color: var(--sklearn-color-background);\n",
              "  position: relative;\n",
              "}\n",
              "\n",
              "#sk-container-id-1 div.sk-parallel-item {\n",
              "  display: flex;\n",
              "  flex-direction: column;\n",
              "}\n",
              "\n",
              "#sk-container-id-1 div.sk-parallel-item:first-child::after {\n",
              "  align-self: flex-end;\n",
              "  width: 50%;\n",
              "}\n",
              "\n",
              "#sk-container-id-1 div.sk-parallel-item:last-child::after {\n",
              "  align-self: flex-start;\n",
              "  width: 50%;\n",
              "}\n",
              "\n",
              "#sk-container-id-1 div.sk-parallel-item:only-child::after {\n",
              "  width: 0;\n",
              "}\n",
              "\n",
              "/* Serial-specific style estimator block */\n",
              "\n",
              "#sk-container-id-1 div.sk-serial {\n",
              "  display: flex;\n",
              "  flex-direction: column;\n",
              "  align-items: center;\n",
              "  background-color: var(--sklearn-color-background);\n",
              "  padding-right: 1em;\n",
              "  padding-left: 1em;\n",
              "}\n",
              "\n",
              "\n",
              "/* Toggleable style: style used for estimator/Pipeline/ColumnTransformer box that is\n",
              "clickable and can be expanded/collapsed.\n",
              "- Pipeline and ColumnTransformer use this feature and define the default style\n",
              "- Estimators will overwrite some part of the style using the `sk-estimator` class\n",
              "*/\n",
              "\n",
              "/* Pipeline and ColumnTransformer style (default) */\n",
              "\n",
              "#sk-container-id-1 div.sk-toggleable {\n",
              "  /* Default theme specific background. It is overwritten whether we have a\n",
              "  specific estimator or a Pipeline/ColumnTransformer */\n",
              "  background-color: var(--sklearn-color-background);\n",
              "}\n",
              "\n",
              "/* Toggleable label */\n",
              "#sk-container-id-1 label.sk-toggleable__label {\n",
              "  cursor: pointer;\n",
              "  display: block;\n",
              "  width: 100%;\n",
              "  margin-bottom: 0;\n",
              "  padding: 0.5em;\n",
              "  box-sizing: border-box;\n",
              "  text-align: center;\n",
              "}\n",
              "\n",
              "#sk-container-id-1 label.sk-toggleable__label-arrow:before {\n",
              "  /* Arrow on the left of the label */\n",
              "  content: \"▸\";\n",
              "  float: left;\n",
              "  margin-right: 0.25em;\n",
              "  color: var(--sklearn-color-icon);\n",
              "}\n",
              "\n",
              "#sk-container-id-1 label.sk-toggleable__label-arrow:hover:before {\n",
              "  color: var(--sklearn-color-text);\n",
              "}\n",
              "\n",
              "/* Toggleable content - dropdown */\n",
              "\n",
              "#sk-container-id-1 div.sk-toggleable__content {\n",
              "  max-height: 0;\n",
              "  max-width: 0;\n",
              "  overflow: hidden;\n",
              "  text-align: left;\n",
              "  /* unfitted */\n",
              "  background-color: var(--sklearn-color-unfitted-level-0);\n",
              "}\n",
              "\n",
              "#sk-container-id-1 div.sk-toggleable__content.fitted {\n",
              "  /* fitted */\n",
              "  background-color: var(--sklearn-color-fitted-level-0);\n",
              "}\n",
              "\n",
              "#sk-container-id-1 div.sk-toggleable__content pre {\n",
              "  margin: 0.2em;\n",
              "  border-radius: 0.25em;\n",
              "  color: var(--sklearn-color-text);\n",
              "  /* unfitted */\n",
              "  background-color: var(--sklearn-color-unfitted-level-0);\n",
              "}\n",
              "\n",
              "#sk-container-id-1 div.sk-toggleable__content.fitted pre {\n",
              "  /* unfitted */\n",
              "  background-color: var(--sklearn-color-fitted-level-0);\n",
              "}\n",
              "\n",
              "#sk-container-id-1 input.sk-toggleable__control:checked~div.sk-toggleable__content {\n",
              "  /* Expand drop-down */\n",
              "  max-height: 200px;\n",
              "  max-width: 100%;\n",
              "  overflow: auto;\n",
              "}\n",
              "\n",
              "#sk-container-id-1 input.sk-toggleable__control:checked~label.sk-toggleable__label-arrow:before {\n",
              "  content: \"▾\";\n",
              "}\n",
              "\n",
              "/* Pipeline/ColumnTransformer-specific style */\n",
              "\n",
              "#sk-container-id-1 div.sk-label input.sk-toggleable__control:checked~label.sk-toggleable__label {\n",
              "  color: var(--sklearn-color-text);\n",
              "  background-color: var(--sklearn-color-unfitted-level-2);\n",
              "}\n",
              "\n",
              "#sk-container-id-1 div.sk-label.fitted input.sk-toggleable__control:checked~label.sk-toggleable__label {\n",
              "  background-color: var(--sklearn-color-fitted-level-2);\n",
              "}\n",
              "\n",
              "/* Estimator-specific style */\n",
              "\n",
              "/* Colorize estimator box */\n",
              "#sk-container-id-1 div.sk-estimator input.sk-toggleable__control:checked~label.sk-toggleable__label {\n",
              "  /* unfitted */\n",
              "  background-color: var(--sklearn-color-unfitted-level-2);\n",
              "}\n",
              "\n",
              "#sk-container-id-1 div.sk-estimator.fitted input.sk-toggleable__control:checked~label.sk-toggleable__label {\n",
              "  /* fitted */\n",
              "  background-color: var(--sklearn-color-fitted-level-2);\n",
              "}\n",
              "\n",
              "#sk-container-id-1 div.sk-label label.sk-toggleable__label,\n",
              "#sk-container-id-1 div.sk-label label {\n",
              "  /* The background is the default theme color */\n",
              "  color: var(--sklearn-color-text-on-default-background);\n",
              "}\n",
              "\n",
              "/* On hover, darken the color of the background */\n",
              "#sk-container-id-1 div.sk-label:hover label.sk-toggleable__label {\n",
              "  color: var(--sklearn-color-text);\n",
              "  background-color: var(--sklearn-color-unfitted-level-2);\n",
              "}\n",
              "\n",
              "/* Label box, darken color on hover, fitted */\n",
              "#sk-container-id-1 div.sk-label.fitted:hover label.sk-toggleable__label.fitted {\n",
              "  color: var(--sklearn-color-text);\n",
              "  background-color: var(--sklearn-color-fitted-level-2);\n",
              "}\n",
              "\n",
              "/* Estimator label */\n",
              "\n",
              "#sk-container-id-1 div.sk-label label {\n",
              "  font-family: monospace;\n",
              "  font-weight: bold;\n",
              "  display: inline-block;\n",
              "  line-height: 1.2em;\n",
              "}\n",
              "\n",
              "#sk-container-id-1 div.sk-label-container {\n",
              "  text-align: center;\n",
              "}\n",
              "\n",
              "/* Estimator-specific */\n",
              "#sk-container-id-1 div.sk-estimator {\n",
              "  font-family: monospace;\n",
              "  border: 1px dotted var(--sklearn-color-border-box);\n",
              "  border-radius: 0.25em;\n",
              "  box-sizing: border-box;\n",
              "  margin-bottom: 0.5em;\n",
              "  /* unfitted */\n",
              "  background-color: var(--sklearn-color-unfitted-level-0);\n",
              "}\n",
              "\n",
              "#sk-container-id-1 div.sk-estimator.fitted {\n",
              "  /* fitted */\n",
              "  background-color: var(--sklearn-color-fitted-level-0);\n",
              "}\n",
              "\n",
              "/* on hover */\n",
              "#sk-container-id-1 div.sk-estimator:hover {\n",
              "  /* unfitted */\n",
              "  background-color: var(--sklearn-color-unfitted-level-2);\n",
              "}\n",
              "\n",
              "#sk-container-id-1 div.sk-estimator.fitted:hover {\n",
              "  /* fitted */\n",
              "  background-color: var(--sklearn-color-fitted-level-2);\n",
              "}\n",
              "\n",
              "/* Specification for estimator info (e.g. \"i\" and \"?\") */\n",
              "\n",
              "/* Common style for \"i\" and \"?\" */\n",
              "\n",
              ".sk-estimator-doc-link,\n",
              "a:link.sk-estimator-doc-link,\n",
              "a:visited.sk-estimator-doc-link {\n",
              "  float: right;\n",
              "  font-size: smaller;\n",
              "  line-height: 1em;\n",
              "  font-family: monospace;\n",
              "  background-color: var(--sklearn-color-background);\n",
              "  border-radius: 1em;\n",
              "  height: 1em;\n",
              "  width: 1em;\n",
              "  text-decoration: none !important;\n",
              "  margin-left: 1ex;\n",
              "  /* unfitted */\n",
              "  border: var(--sklearn-color-unfitted-level-1) 1pt solid;\n",
              "  color: var(--sklearn-color-unfitted-level-1);\n",
              "}\n",
              "\n",
              ".sk-estimator-doc-link.fitted,\n",
              "a:link.sk-estimator-doc-link.fitted,\n",
              "a:visited.sk-estimator-doc-link.fitted {\n",
              "  /* fitted */\n",
              "  border: var(--sklearn-color-fitted-level-1) 1pt solid;\n",
              "  color: var(--sklearn-color-fitted-level-1);\n",
              "}\n",
              "\n",
              "/* On hover */\n",
              "div.sk-estimator:hover .sk-estimator-doc-link:hover,\n",
              ".sk-estimator-doc-link:hover,\n",
              "div.sk-label-container:hover .sk-estimator-doc-link:hover,\n",
              ".sk-estimator-doc-link:hover {\n",
              "  /* unfitted */\n",
              "  background-color: var(--sklearn-color-unfitted-level-3);\n",
              "  color: var(--sklearn-color-background);\n",
              "  text-decoration: none;\n",
              "}\n",
              "\n",
              "div.sk-estimator.fitted:hover .sk-estimator-doc-link.fitted:hover,\n",
              ".sk-estimator-doc-link.fitted:hover,\n",
              "div.sk-label-container:hover .sk-estimator-doc-link.fitted:hover,\n",
              ".sk-estimator-doc-link.fitted:hover {\n",
              "  /* fitted */\n",
              "  background-color: var(--sklearn-color-fitted-level-3);\n",
              "  color: var(--sklearn-color-background);\n",
              "  text-decoration: none;\n",
              "}\n",
              "\n",
              "/* Span, style for the box shown on hovering the info icon */\n",
              ".sk-estimator-doc-link span {\n",
              "  display: none;\n",
              "  z-index: 9999;\n",
              "  position: relative;\n",
              "  font-weight: normal;\n",
              "  right: .2ex;\n",
              "  padding: .5ex;\n",
              "  margin: .5ex;\n",
              "  width: min-content;\n",
              "  min-width: 20ex;\n",
              "  max-width: 50ex;\n",
              "  color: var(--sklearn-color-text);\n",
              "  box-shadow: 2pt 2pt 4pt #999;\n",
              "  /* unfitted */\n",
              "  background: var(--sklearn-color-unfitted-level-0);\n",
              "  border: .5pt solid var(--sklearn-color-unfitted-level-3);\n",
              "}\n",
              "\n",
              ".sk-estimator-doc-link.fitted span {\n",
              "  /* fitted */\n",
              "  background: var(--sklearn-color-fitted-level-0);\n",
              "  border: var(--sklearn-color-fitted-level-3);\n",
              "}\n",
              "\n",
              ".sk-estimator-doc-link:hover span {\n",
              "  display: block;\n",
              "}\n",
              "\n",
              "/* \"?\"-specific style due to the `<a>` HTML tag */\n",
              "\n",
              "#sk-container-id-1 a.estimator_doc_link {\n",
              "  float: right;\n",
              "  font-size: 1rem;\n",
              "  line-height: 1em;\n",
              "  font-family: monospace;\n",
              "  background-color: var(--sklearn-color-background);\n",
              "  border-radius: 1rem;\n",
              "  height: 1rem;\n",
              "  width: 1rem;\n",
              "  text-decoration: none;\n",
              "  /* unfitted */\n",
              "  color: var(--sklearn-color-unfitted-level-1);\n",
              "  border: var(--sklearn-color-unfitted-level-1) 1pt solid;\n",
              "}\n",
              "\n",
              "#sk-container-id-1 a.estimator_doc_link.fitted {\n",
              "  /* fitted */\n",
              "  border: var(--sklearn-color-fitted-level-1) 1pt solid;\n",
              "  color: var(--sklearn-color-fitted-level-1);\n",
              "}\n",
              "\n",
              "/* On hover */\n",
              "#sk-container-id-1 a.estimator_doc_link:hover {\n",
              "  /* unfitted */\n",
              "  background-color: var(--sklearn-color-unfitted-level-3);\n",
              "  color: var(--sklearn-color-background);\n",
              "  text-decoration: none;\n",
              "}\n",
              "\n",
              "#sk-container-id-1 a.estimator_doc_link.fitted:hover {\n",
              "  /* fitted */\n",
              "  background-color: var(--sklearn-color-fitted-level-3);\n",
              "}\n",
              "</style><div id=\"sk-container-id-1\" class=\"sk-top-container\"><div class=\"sk-text-repr-fallback\"><pre>LinearRegression()</pre><b>In a Jupyter environment, please rerun this cell to show the HTML representation or trust the notebook. <br />On GitHub, the HTML representation is unable to render, please try loading this page with nbviewer.org.</b></div><div class=\"sk-container\" hidden><div class=\"sk-item\"><div class=\"sk-estimator fitted sk-toggleable\"><input class=\"sk-toggleable__control sk-hidden--visually\" id=\"sk-estimator-id-1\" type=\"checkbox\" checked><label for=\"sk-estimator-id-1\" class=\"sk-toggleable__label fitted sk-toggleable__label-arrow fitted\">&nbsp;&nbsp;LinearRegression<a class=\"sk-estimator-doc-link fitted\" rel=\"noreferrer\" target=\"_blank\" href=\"https://scikit-learn.org/1.5/modules/generated/sklearn.linear_model.LinearRegression.html\">?<span>Documentation for LinearRegression</span></a><span class=\"sk-estimator-doc-link fitted\">i<span>Fitted</span></span></label><div class=\"sk-toggleable__content fitted\"><pre>LinearRegression()</pre></div> </div></div></div></div>"
            ]
          },
          "metadata": {},
          "execution_count": 16
        }
      ]
    },
    {
      "cell_type": "markdown",
      "source": [
        "Test the Model"
      ],
      "metadata": {
        "id": "ZMVVMHX5Sbp9"
      }
    },
    {
      "cell_type": "code",
      "source": [
        "y_pred = my_model.predict(X_test)"
      ],
      "metadata": {
        "id": "AW4UKWLvs8hT"
      },
      "execution_count": null,
      "outputs": []
    },
    {
      "cell_type": "code",
      "source": [
        "predict=pd.DataFrame(y_pred)\n",
        "print(predict)"
      ],
      "metadata": {
        "colab": {
          "base_uri": "https://localhost:8080/"
        },
        "id": "KdKHRAzISfBJ",
        "outputId": "651c5add-4244-490f-9807-219cdae15e9f"
      },
      "execution_count": null,
      "outputs": [
        {
          "output_type": "stream",
          "name": "stdout",
          "text": [
            "                0\n",
            "0     5919.881441\n",
            "1     5490.244716\n",
            "2     2715.522819\n",
            "3     9112.570060\n",
            "4     5800.122102\n",
            "..            ...\n",
            "289   5443.899307\n",
            "290   5859.278503\n",
            "291  16036.215464\n",
            "292   2421.537019\n",
            "293   5704.930327\n",
            "\n",
            "[294 rows x 1 columns]\n"
          ]
        }
      ]
    },
    {
      "cell_type": "markdown",
      "source": [
        "Evaluating the Model"
      ],
      "metadata": {
        "id": "nJI71o6iLdSC"
      }
    },
    {
      "cell_type": "code",
      "source": [
        "mse = mean_squared_error(y_test, y_pred)\n",
        "r2 = r2_score(y_test, y_pred)"
      ],
      "metadata": {
        "id": "BaNHG-ZutlPU"
      },
      "execution_count": null,
      "outputs": []
    },
    {
      "cell_type": "code",
      "source": [
        "print(f\"Mean Squared Error: {mse}\")\n",
        "print(f\"R^2 Score: {r2}\")"
      ],
      "metadata": {
        "colab": {
          "base_uri": "https://localhost:8080/"
        },
        "id": "wH2CFW0_tlRh",
        "outputId": "3c668dc1-308d-4b40-9e23-946e78c7e9b6"
      },
      "execution_count": null,
      "outputs": [
        {
          "output_type": "stream",
          "name": "stdout",
          "text": [
            "Mean Squared Error: 1364601.4626973802\n",
            "R^2 Score: 0.9375622994094766\n"
          ]
        }
      ]
    },
    {
      "cell_type": "code",
      "source": [
        "coefficients = pd.DataFrame(my_model.coef_, X.columns, columns=['Coefficient'])\n",
        "print(coefficients)"
      ],
      "metadata": {
        "colab": {
          "base_uri": "https://localhost:8080/"
        },
        "id": "voaXT47_tlT4",
        "outputId": "906fe376-28c0-4f1c-f316-4c03ced1d826"
      },
      "execution_count": null,
      "outputs": [
        {
          "output_type": "stream",
          "name": "stdout",
          "text": [
            "                                   Coefficient\n",
            "Age                                  -3.785250\n",
            "DailyRate                             0.076641\n",
            "DistanceFromHome                     -4.119768\n",
            "Education                             3.631640\n",
            "EnvironmentSatisfaction             -12.770758\n",
            "HourlyRate                            0.912983\n",
            "JobInvolvement                      -75.577996\n",
            "JobLevel                           2805.336666\n",
            "JobSatisfaction                     -24.113123\n",
            "MonthlyRate                          -0.003708\n",
            "NumCompaniesWorked                   12.060578\n",
            "PercentSalaryHike                    16.289688\n",
            "PerformanceRating                  -189.496846\n",
            "RelationshipSatisfaction             24.484523\n",
            "StockOptionLevel                    -22.844624\n",
            "TotalWorkingYears                    42.940886\n",
            "TrainingTimesLastYear               -10.787121\n",
            "WorkLifeBalance                     -51.234057\n",
            "YearsAtCompany                        6.442854\n",
            "YearsInCurrentRole                   -1.130058\n",
            "YearsSinceLastPromotion              27.209491\n",
            "YearsWithCurrManager                -30.202423\n",
            "Attrition_Yes                        57.148348\n",
            "BusinessTravel_Travel_Frequently    157.767594\n",
            "BusinessTravel_Travel_Rarely        164.220756\n",
            "Department_Research & Development   428.486639\n",
            "Department_Sales                     89.286875\n",
            "EducationField_Life Sciences       -133.335239\n",
            "EducationField_Marketing            -86.032199\n",
            "EducationField_Medical              -87.531448\n",
            "EducationField_Other               -261.211642\n",
            "EducationField_Technical Degree     -87.302412\n",
            "Gender_Male                          47.000384\n",
            "JobRole_Human Resources             181.467235\n",
            "JobRole_Laboratory Technician      -473.824038\n",
            "JobRole_Manager                    4380.081561\n",
            "JobRole_Manufacturing Director       64.800988\n",
            "JobRole_Research Director          3991.434857\n",
            "JobRole_Research Scientist         -376.777394\n",
            "JobRole_Sales Executive             382.170522\n",
            "JobRole_Sales Representative       -247.495259\n",
            "MaritalStatus_Married                 4.383807\n",
            "MaritalStatus_Single                -28.986353\n",
            "OverTime_Yes                         50.911252\n"
          ]
        }
      ]
    },
    {
      "cell_type": "markdown",
      "source": [
        "Residual Analysis"
      ],
      "metadata": {
        "id": "X99kq99KMRfA"
      }
    },
    {
      "cell_type": "code",
      "source": [
        "plt.figure(figsize=(8, 6))\n",
        "plt.scatter(y_test, y_pred, color='blue')\n",
        "plt.plot([min(y_test), max(y_test)], [min(y_test), max(y_test)], color='red', lw=2)\n",
        "plt.title('Actual vs Predicted Monthly Income')\n",
        "plt.xlabel('Actual Monthly Income')\n",
        "plt.ylabel('Predicted Monthly Income')\n",
        "plt.show()"
      ],
      "metadata": {
        "colab": {
          "base_uri": "https://localhost:8080/",
          "height": 564
        },
        "id": "HlESkKEtt0yu",
        "outputId": "993fd3e3-7212-46e2-9e86-464920654efd"
      },
      "execution_count": null,
      "outputs": [
        {
          "output_type": "display_data",
          "data": {
            "text/plain": [
              "<Figure size 800x600 with 1 Axes>"
            ],
            "image/png": "[encoded data removed]"
          },
          "metadata": {}
        }
      ]
    },
    {
      "cell_type": "markdown",
      "source": [
        "Visualize Actual vs. Predicted Values"
      ],
      "metadata": {
        "id": "qlPEbT-lMToN"
      }
    },
    {
      "cell_type": "code",
      "source": [
        "plt.figure(figsize=(8, 6))\n",
        "sns.histplot(y_test - y_pred, kde=True, color='purple')\n",
        "plt.title('Residuals Distribution')\n",
        "plt.xlabel('Residuals')\n",
        "plt.show()"
      ],
      "metadata": {
        "colab": {
          "base_uri": "https://localhost:8080/",
          "height": 564
        },
        "id": "DW4SdgOCt00-",
        "outputId": "188c5fea-a4fc-4a09-fc64-e09f60477099"
      },
      "execution_count": null,
      "outputs": [
        {
          "output_type": "display_data",
          "data": {
            "text/plain": [
              "<Figure size 800x600 with 1 Axes>"
            ],
            "image/png": "[encoded data removed]"
          },
          "metadata": {}
        }
      ]
    },
    {
      "cell_type": "markdown",
      "source": [
        "Serializing model to use in application"
      ],
      "metadata": {
        "id": "Uw4rBTGxMcrG"
      }
    },
    {
      "cell_type": "code",
      "source": [
        "import pickle\n",
        "\n",
        "with open(\"employee_salary_prediction.pkl\", \"wb\") as f:\n",
        "    pickle.dump(my_model, f)"
      ],
      "metadata": {
        "id": "g6HL67uit05e"
      },
      "execution_count": null,
      "outputs": []
    },
    {
      "cell_type": "markdown",
      "source": [
        "Loading the Model"
      ],
      "metadata": {
        "id": "jWVFSoMVPVTY"
      }
    },
    {
      "cell_type": "code",
      "source": [
        "with open(\"employee_salary_prediction.pkl\", \"rb\") as f:\n",
        "    loaded_model = pickle.load(f)\n",
        "    print(\"Model loaded successfully:\", loaded_model)"
      ],
      "metadata": {
        "colab": {
          "base_uri": "https://localhost:8080/"
        },
        "id": "61KaCEoVNgQo",
        "outputId": "fefa0511-6a97-4f93-a214-4f4c42ecf801"
      },
      "execution_count": null,
      "outputs": [
        {
          "output_type": "stream",
          "name": "stdout",
          "text": [
            "Model loaded successfully: LinearRegression()\n"
          ]
        }
      ]
    },
    {
      "cell_type": "markdown",
      "source": [
        "Predictions"
      ],
      "metadata": {
        "id": "9cdGQtlNPZB7"
      }
    },
    {
      "cell_type": "code",
      "source": [
        "# Assuming X_test is your test dataset\n",
        "y_pred = loaded_model.predict(X_test)"
      ],
      "metadata": {
        "id": "ElwFUkdVZg6l"
      },
      "execution_count": null,
      "outputs": []
    },
    {
      "cell_type": "code",
      "source": [
        "# Print the predictions\n",
        "print(\"Predictions from loaded model:\", y_pred)"
      ],
      "metadata": {
        "colab": {
          "base_uri": "https://localhost:8080/"
        },
        "id": "Oj4ypkWIZl2O",
        "outputId": "3a0ff007-b278-43e4-ec6e-0c8139502879"
      },
      "execution_count": null,
      "outputs": [
        {
          "output_type": "stream",
          "name": "stdout",
          "text": [
            "Predictions from loaded model: [ 5919.88144055  5490.2447161   2715.52281885  9112.5700595\n",
            "  5800.12210204  2366.74783041  2513.97774477  2628.07105666\n",
            "  9424.32523355  2291.40008107  2347.78407002  9312.64612614\n",
            "  6099.51748062  2374.04500661  2423.35740414  2778.50525396\n",
            "  5823.08358809  3066.27874859 13079.45469609 15964.65076738\n",
            "  2365.14202767  6333.48988859  5834.01289376  5839.45467988\n",
            "  6087.01212768 19214.89461531  2433.72187069  5613.52423609\n",
            "  2495.6818844   6158.15996594  5722.49443758  5874.79896155\n",
            "  5690.20188877  8891.27021251  6556.6293113   8738.46862352\n",
            " 12675.72155244  2739.943265    2569.08169285  2552.53757313\n",
            "  5854.49210147  6156.15383769  5511.37897586  2605.69109991\n",
            "  2178.91883963  6201.57006402  8860.04412908  5813.49187622\n",
            "  6263.63899284  2426.66852331 16432.20147207  2580.14477001\n",
            " 18953.54211761  5941.96982061  2717.91232663  5512.4079732\n",
            "  5669.43407866  5595.44891302  6047.76756013  6047.45834896\n",
            "  8329.37724983  2412.96315105  8749.80105907 16472.49867782\n",
            "  6547.85248435  5972.25027035  5853.6917719   5853.95241588\n",
            "  2430.32397292 16039.71678262  6182.76086601 19019.77585998\n",
            "  6483.34027498  6218.03876531  5871.09872545 16242.0003122\n",
            "  5885.37649989  5923.41188968  9338.7824951  12914.66116897\n",
            " 19286.48801527  5876.4195916  16302.72001572  2241.04556256\n",
            "  8727.72082591  2417.33764006  9279.10393384  5561.54946851\n",
            "  5445.38780144  5465.03464599  5884.43288738  2264.63510718\n",
            " 12045.29674168  2219.26202339  8777.31537625  8767.29930042\n",
            "  5934.15828428  5687.97814375  6050.69343343  9174.39151172\n",
            " 19856.25124202  8786.66906454  8703.75894075  2382.13730364\n",
            "  9515.20497618  8753.88374883  5645.18219896  5741.68599696\n",
            " 12820.84695616 18999.93770758  6194.7810165   5548.99646497\n",
            "  5798.24279812  5864.8819576   2274.91162917  2666.13806897\n",
            "  6415.72118333  8747.22181871 16419.83969787  2796.02058636\n",
            "  2537.54620299  8689.40136652  2602.60370668 12173.07355703\n",
            "  6107.81641647  2603.73743031  5730.45510892 12282.24272137\n",
            "  6382.08686345  5972.73434997  2411.10277445  2351.29663632\n",
            "  9548.55675933  5634.28010013  2407.44937008  5381.88842035\n",
            "  2648.11641272  8784.07816395  2587.43606197 12167.14217146\n",
            "  2523.71860164  8739.0905425   5605.34788885  8694.73138134\n",
            " 12224.08384167  2571.51204394  5735.25009242  2357.37045214\n",
            "  2438.65798926  5895.0126092   6184.81413129  9510.20905831\n",
            "  3194.75656931  2685.89701966  5900.55095821  2697.84582055\n",
            "  5919.08751817  2460.8285683  18987.02762757  2494.22402461\n",
            "  5905.85707313  5712.39510613  5554.37418784  2989.87050151\n",
            "  5562.32152642  6219.5675666   2470.91156482  5232.49989079\n",
            " 17044.35538714  8864.80903715  5702.23177464 16391.99096161\n",
            "  2539.95031668  2530.67847521  5549.83359566  2728.6711094\n",
            "  5760.56298967  8632.55913301  9602.2906386   2566.83275956\n",
            " 12763.150326    5707.34316609 19214.37583557  8863.15714926\n",
            "  8972.58824537  2078.55788105  9197.77301189  9328.05433075\n",
            "  5870.70485689  5228.04747571  6025.46848571  9655.34517131\n",
            "  8198.34844177  5632.97820168  5973.06564395  2471.10151892\n",
            "  2515.4857518  19499.90030898  5535.03160974  6344.17581145\n",
            "  2470.67327546  5680.34628621  5757.44483212 18771.75450602\n",
            " 16433.44381264  2621.90675178  8618.37409665  2250.30304826\n",
            "  2616.90077538 19930.17938594  9570.16519137  2494.25688951\n",
            "  2465.66371047  8843.08592089  5879.75969936  2670.74131006\n",
            "  5636.93915846  6159.99746566  5981.53611428  9325.21421417\n",
            "  5443.42647239  2671.67589044 12842.22098841  5918.59883547\n",
            "  6100.16877865  2851.37519107  5933.7271158   5588.26327201\n",
            "  8815.51436525  2372.02961364  5576.07741289  6295.75756003\n",
            " 19083.7280769   9051.02674066  5803.12916559  5456.87115404\n",
            "  5534.27370146  2646.48165765 12397.02866366 19204.13719022\n",
            "  2574.86960356  5637.26557288  6232.53406066 19574.59274792\n",
            "  8673.95042259  5972.63591723  3015.3818478   5474.716729\n",
            "  5747.46573492  6300.60975284  5342.28784452 19316.32759031\n",
            " 19590.69910173  5312.16599745  6422.88808365  5331.82252525\n",
            "  2618.55819328  2486.36812657  2623.75303506 15618.30406858\n",
            "  6052.79818906  2906.29625661  2296.55271673  5999.98466301\n",
            "  5845.23347285  8832.86386732 19115.32649344  8493.47727013\n",
            "  5412.19943948  5792.30073164  2603.1299207  19181.69305437\n",
            "  2511.19263698  5503.51711513  8866.79100844  5837.32523268\n",
            "  2731.61178263  5529.36152528  5291.37142845  8757.92462023\n",
            "  2180.83145471  5539.28420201  2737.91803222  5725.02714118\n",
            " 12201.38009386  2559.90859175  5735.27438751  2377.05663193\n",
            "  5986.24748454  5443.89930684  5859.27850287 16036.21546442\n",
            "  2421.53701917  5704.93032724]\n"
          ]
        }
      ]
    },
    {
      "cell_type": "code",
      "source": [
        "predictions_df = pd.DataFrame(y_pred, columns=['Predicted'])\n",
        "\n",
        "X_test_with_predictions = X_test.copy()\n",
        "X_test_with_predictions['Predicted'] = predictions_df['Predicted']\n",
        "\n",
        "# Show predictions\n",
        "print(\"Predictions from loaded model:\", y_pred)\n",
        "\n",
        "print(\"Predictions from loaded model : \\n\", X_test_with_predictions)"
      ],
      "metadata": {
        "colab": {
          "base_uri": "https://localhost:8080/"
        },
        "id": "TwwUUTobYKqs",
        "outputId": "c66e3018-1e95-4da5-ee26-467cb5279f5a"
      },
      "execution_count": null,
      "outputs": [
        {
          "output_type": "stream",
          "name": "stdout",
          "text": [
            "Predictions from loaded model: [ 5919.88144055  5490.2447161   2715.52281885  9112.5700595\n",
            "  5800.12210204  2366.74783041  2513.97774477  2628.07105666\n",
            "  9424.32523355  2291.40008107  2347.78407002  9312.64612614\n",
            "  6099.51748062  2374.04500661  2423.35740414  2778.50525396\n",
            "  5823.08358809  3066.27874859 13079.45469609 15964.65076738\n",
            "  2365.14202767  6333.48988859  5834.01289376  5839.45467988\n",
            "  6087.01212768 19214.89461531  2433.72187069  5613.52423609\n",
            "  2495.6818844   6158.15996594  5722.49443758  5874.79896155\n",
            "  5690.20188877  8891.27021251  6556.6293113   8738.46862352\n",
            " 12675.72155244  2739.943265    2569.08169285  2552.53757313\n",
            "  5854.49210147  6156.15383769  5511.37897586  2605.69109991\n",
            "  2178.91883963  6201.57006402  8860.04412908  5813.49187622\n",
            "  6263.63899284  2426.66852331 16432.20147207  2580.14477001\n",
            " 18953.54211761  5941.96982061  2717.91232663  5512.4079732\n",
            "  5669.43407866  5595.44891302  6047.76756013  6047.45834896\n",
            "  8329.37724983  2412.96315105  8749.80105907 16472.49867782\n",
            "  6547.85248435  5972.25027035  5853.6917719   5853.95241588\n",
            "  2430.32397292 16039.71678262  6182.76086601 19019.77585998\n",
            "  6483.34027498  6218.03876531  5871.09872545 16242.0003122\n",
            "  5885.37649989  5923.41188968  9338.7824951  12914.66116897\n",
            " 19286.48801527  5876.4195916  16302.72001572  2241.04556256\n",
            "  8727.72082591  2417.33764006  9279.10393384  5561.54946851\n",
            "  5445.38780144  5465.03464599  5884.43288738  2264.63510718\n",
            " 12045.29674168  2219.26202339  8777.31537625  8767.29930042\n",
            "  5934.15828428  5687.97814375  6050.69343343  9174.39151172\n",
            " 19856.25124202  8786.66906454  8703.75894075  2382.13730364\n",
            "  9515.20497618  8753.88374883  5645.18219896  5741.68599696\n",
            " 12820.84695616 18999.93770758  6194.7810165   5548.99646497\n",
            "  5798.24279812  5864.8819576   2274.91162917  2666.13806897\n",
            "  6415.72118333  8747.22181871 16419.83969787  2796.02058636\n",
            "  2537.54620299  8689.40136652  2602.60370668 12173.07355703\n",
            "  6107.81641647  2603.73743031  5730.45510892 12282.24272137\n",
            "  6382.08686345  5972.73434997  2411.10277445  2351.29663632\n",
            "  9548.55675933  5634.28010013  2407.44937008  5381.88842035\n",
            "  2648.11641272  8784.07816395  2587.43606197 12167.14217146\n",
            "  2523.71860164  8739.0905425   5605.34788885  8694.73138134\n",
            " 12224.08384167  2571.51204394  5735.25009242  2357.37045214\n",
            "  2438.65798926  5895.0126092   6184.81413129  9510.20905831\n",
            "  3194.75656931  2685.89701966  5900.55095821  2697.84582055\n",
            "  5919.08751817  2460.8285683  18987.02762757  2494.22402461\n",
            "  5905.85707313  5712.39510613  5554.37418784  2989.87050151\n",
            "  5562.32152642  6219.5675666   2470.91156482  5232.49989079\n",
            " 17044.35538714  8864.80903715  5702.23177464 16391.99096161\n",
            "  2539.95031668  2530.67847521  5549.83359566  2728.6711094\n",
            "  5760.56298967  8632.55913301  9602.2906386   2566.83275956\n",
            " 12763.150326    5707.34316609 19214.37583557  8863.15714926\n",
            "  8972.58824537  2078.55788105  9197.77301189  9328.05433075\n",
            "  5870.70485689  5228.04747571  6025.46848571  9655.34517131\n",
            "  8198.34844177  5632.97820168  5973.06564395  2471.10151892\n",
            "  2515.4857518  19499.90030898  5535.03160974  6344.17581145\n",
            "  2470.67327546  5680.34628621  5757.44483212 18771.75450602\n",
            " 16433.44381264  2621.90675178  8618.37409665  2250.30304826\n",
            "  2616.90077538 19930.17938594  9570.16519137  2494.25688951\n",
            "  2465.66371047  8843.08592089  5879.75969936  2670.74131006\n",
            "  5636.93915846  6159.99746566  5981.53611428  9325.21421417\n",
            "  5443.42647239  2671.67589044 12842.22098841  5918.59883547\n",
            "  6100.16877865  2851.37519107  5933.7271158   5588.26327201\n",
            "  8815.51436525  2372.02961364  5576.07741289  6295.75756003\n",
            " 19083.7280769   9051.02674066  5803.12916559  5456.87115404\n",
            "  5534.27370146  2646.48165765 12397.02866366 19204.13719022\n",
            "  2574.86960356  5637.26557288  6232.53406066 19574.59274792\n",
            "  8673.95042259  5972.63591723  3015.3818478   5474.716729\n",
            "  5747.46573492  6300.60975284  5342.28784452 19316.32759031\n",
            " 19590.69910173  5312.16599745  6422.88808365  5331.82252525\n",
            "  2618.55819328  2486.36812657  2623.75303506 15618.30406858\n",
            "  6052.79818906  2906.29625661  2296.55271673  5999.98466301\n",
            "  5845.23347285  8832.86386732 19115.32649344  8493.47727013\n",
            "  5412.19943948  5792.30073164  2603.1299207  19181.69305437\n",
            "  2511.19263698  5503.51711513  8866.79100844  5837.32523268\n",
            "  2731.61178263  5529.36152528  5291.37142845  8757.92462023\n",
            "  2180.83145471  5539.28420201  2737.91803222  5725.02714118\n",
            " 12201.38009386  2559.90859175  5735.27438751  2377.05663193\n",
            "  5986.24748454  5443.89930684  5859.27850287 16036.21546442\n",
            "  2421.53701917  5704.93032724]\n",
            "Predictions from loaded model : \n",
            "       Age  DailyRate  DistanceFromHome  Education  EnvironmentSatisfaction  \\\n",
            "1041   28        866                 5          3                        4   \n",
            "184    53       1084                13          2                        4   \n",
            "1222   24        240                22          1                        4   \n",
            "67     45       1339                 7          3                        2   \n",
            "220    36       1396                 5          2                        4   \n",
            "...   ...        ...               ...        ...                      ...   \n",
            "567    34        304                 2          3                        4   \n",
            "560    34        167                 8          5                        2   \n",
            "945    50       1322                28          3                        4   \n",
            "522    37       1225                10          2                        4   \n",
            "651    47        249                 2          2                        3   \n",
            "\n",
            "      HourlyRate  JobInvolvement  JobLevel  JobSatisfaction  MonthlyRate  ...  \\\n",
            "1041          84               3         2                1        23490  ...   \n",
            "184           57               4         2                1        26250  ...   \n",
            "1222          58               1         1                3        11585  ...   \n",
            "67            59               3         3                1        18787  ...   \n",
            "220           62               3         2                2         9945  ...   \n",
            "...          ...             ...       ...              ...          ...  ...   \n",
            "567           60               3         2                4        18686  ...   \n",
            "560           32               3         2                1         4187  ...   \n",
            "945           43               3         4                1        22422  ...   \n",
            "522           80               4         1                4        15232  ...   \n",
            "651           35               3         2                4        17783  ...   \n",
            "\n",
            "      JobRole_Manager  JobRole_Manufacturing Director  \\\n",
            "1041            False                           False   \n",
            "184             False                            True   \n",
            "1222            False                           False   \n",
            "67              False                           False   \n",
            "220             False                           False   \n",
            "...               ...                             ...   \n",
            "567             False                           False   \n",
            "560             False                            True   \n",
            "945             False                           False   \n",
            "522             False                           False   \n",
            "651             False                           False   \n",
            "\n",
            "      JobRole_Research Director  JobRole_Research Scientist  \\\n",
            "1041                      False                       False   \n",
            "184                       False                       False   \n",
            "1222                      False                       False   \n",
            "67                        False                        True   \n",
            "220                       False                       False   \n",
            "...                         ...                         ...   \n",
            "567                       False                       False   \n",
            "560                       False                       False   \n",
            "945                        True                       False   \n",
            "522                       False                        True   \n",
            "651                       False                       False   \n",
            "\n",
            "      JobRole_Sales Executive  JobRole_Sales Representative  \\\n",
            "1041                     True                         False   \n",
            "184                     False                         False   \n",
            "1222                    False                         False   \n",
            "67                      False                         False   \n",
            "220                     False                         False   \n",
            "...                       ...                           ...   \n",
            "567                      True                         False   \n",
            "560                     False                         False   \n",
            "945                     False                         False   \n",
            "522                     False                         False   \n",
            "651                      True                         False   \n",
            "\n",
            "      MaritalStatus_Married  MaritalStatus_Single  OverTime_Yes    Predicted  \n",
            "1041                  False                  True         False          NaN  \n",
            "184                   False                 False         False  8972.588245  \n",
            "1222                   True                 False         False          NaN  \n",
            "67                    False                 False         False  5853.952416  \n",
            "220                   False                  True         False  5443.426472  \n",
            "...                     ...                   ...           ...          ...  \n",
            "567                   False                  True         False          NaN  \n",
            "560                   False                 False         False          NaN  \n",
            "945                    True                 False          True          NaN  \n",
            "522                   False                  True         False          NaN  \n",
            "651                    True                 False          True          NaN  \n",
            "\n",
            "[294 rows x 45 columns]\n"
          ]
        }
      ]
    }
  ]
}